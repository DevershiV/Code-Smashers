{
 "cells": [
  {
   "cell_type": "code",
   "execution_count": 25,
   "id": "9dbb0c2b",
   "metadata": {},
   "outputs": [
    {
     "data": {
      "text/plain": [
       "2"
      ]
     },
     "execution_count": 25,
     "metadata": {},
     "output_type": "execute_result"
    }
   ],
   "source": [
    "from os import path\n",
    "from pydub import AudioSegment\n",
    "  \n",
    "# assign files\n",
    "input_file = \"220714_2111.mp3\"\n",
    "temp_wav_file = \"test.wav\"\n",
    "\n",
    "sound = AudioSegment.from_mp3(input_file)\n",
    "sound.export(temp_wav_file, format=\"wav\")\n",
    "\n",
    "denoised_wav_file = \"output.wav\"\n",
    "\n",
    "sox_cmd = \"sox -S {input_file} {output_file} noisered noise.prof 0.21\".format(\n",
    "    input_file=temp_wav_file, output_file=denoised_wav_file\n",
    ")\n",
    "call(sox_cmd, shell=True)\n"
   ]
  },
  {
   "cell_type": "code",
   "execution_count": 22,
   "id": "587bc57b",
   "metadata": {},
   "outputs": [],
   "source": [
    "from pydub import AudioSegment\n",
    "from pydub.utils import which\n",
    "from subprocess import call\n",
    "\n",
    "# Load the MP3 file\n",
    "mp3_file = AudioSegment.from_mp3(\"220714_2111.mp3\")\n",
    "\n",
    "# Save the file as a WAV file\n",
    "temp_wav_file = \"temp.wav\"\n",
    "mp3_file.export(temp_wav_file, format=\"wav\")\n",
    "\n",
    "# Denoise the WAV file using the sox utility\n",
    "denoised_wav_file = \"output.wav\"\n",
    "sox_cmd = \"sox -S {input_file} {output_file} noisered noise.prof 0.21\".format(\n",
    "    input_file=temp_wav_file, output_file=denoised_wav_file\n",
    ")\n",
    "call(sox_cmd, shell=True)\n",
    "\n",
    "# Delete the temporary WAV file\n",
    "import os\n",
    "os.remove(temp_wav_file)"
   ]
  },
  {
   "cell_type": "code",
   "execution_count": 30,
   "id": "ef669626",
   "metadata": {},
   "outputs": [
    {
     "name": "stdout",
     "output_type": "stream",
     "text": [
      "- \n",
      "- \n",
      "['hi', 'hello']\n"
     ]
    }
   ],
   "source": [
    "x = '- hi/n- hello/n'\n",
    "ex = []\n",
    "for i in range(len(x)):\n",
    "    if x[i:i+2] == '- ':\n",
    "        print(x[i:i+2])\n",
    "        j = x.find('/n',i+2)\n",
    "        ex.append(x[i+2:j])\n",
    "print(ex)"
   ]
  },
  {
   "cell_type": "code",
   "execution_count": null,
   "id": "5940c53d",
   "metadata": {},
   "outputs": [],
   "source": []
  }
 ],
 "metadata": {
  "kernelspec": {
   "display_name": "Python 3 (ipykernel)",
   "language": "python",
   "name": "python3"
  },
  "language_info": {
   "codemirror_mode": {
    "name": "ipython",
    "version": 3
   },
   "file_extension": ".py",
   "mimetype": "text/x-python",
   "name": "python",
   "nbconvert_exporter": "python",
   "pygments_lexer": "ipython3",
   "version": "3.9.7"
  }
 },
 "nbformat": 4,
 "nbformat_minor": 5
}
