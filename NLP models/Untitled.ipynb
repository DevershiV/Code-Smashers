{
 "cells": [
  {
   "cell_type": "code",
   "execution_count": 25,
   "id": "9dbb0c2b",
   "metadata": {},
   "outputs": [
    {
     "data": {
      "text/plain": [
       "2"
      ]
     },
     "execution_count": 25,
     "metadata": {},
     "output_type": "execute_result"
    }
   ],
   "source": [
    "from os import path\n",
    "from pydub import AudioSegment\n",
    "  \n",
    "# assign files\n",
    "input_file = \"220714_2111.mp3\"\n",
    "temp_wav_file = \"test.wav\"\n",
    "\n",
    "sound = AudioSegment.from_mp3(input_file)\n",
    "sound.export(temp_wav_file, format=\"wav\")\n",
    "\n",
    "denoised_wav_file = \"output.wav\"\n",
    "\n",
    "sox_cmd = \"sox -S {input_file} {output_file} noisered noise.prof 0.21\".format(\n",
    "    input_file=temp_wav_file, output_file=denoised_wav_file\n",
    ")\n",
    "call(sox_cmd, shell=True)\n"
   ]
  },
  {
   "cell_type": "code",
   "execution_count": 22,
   "id": "587bc57b",
   "metadata": {},
   "outputs": [],
   "source": [
    "from pydub import AudioSegment\n",
    "from pydub.utils import which\n",
    "from subprocess import call\n",
    "\n",
    "# Load the MP3 file\n",
    "mp3_file = AudioSegment.from_mp3(\"220714_2111.mp3\")\n",
    "\n",
    "# Save the file as a WAV file\n",
    "temp_wav_file = \"temp.wav\"\n",
    "mp3_file.export(temp_wav_file, format=\"wav\")\n",
    "\n",
    "# Denoise the WAV file using the sox utility\n",
    "denoised_wav_file = \"output.wav\"\n",
    "sox_cmd = \"sox -S {input_file} {output_file} noisered noise.prof 0.21\".format(\n",
    "    input_file=temp_wav_file, output_file=denoised_wav_file\n",
    ")\n",
    "call(sox_cmd, shell=True)\n",
    "\n",
    "# Delete the temporary WAV file\n",
    "import os\n",
    "os.remove(temp_wav_file)"
   ]
  },
  {
   "cell_type": "code",
   "execution_count": 30,
   "id": "ef669626",
   "metadata": {},
   "outputs": [
    {
     "name": "stdout",
     "output_type": "stream",
     "text": [
      "- \n",
      "- \n",
      "['hi', 'hello']\n"
     ]
    }
   ],
   "source": [
    "x = '- hi/n- hello/n'\n",
    "ex = []\n",
    "for i in range(len(x)):\n",
    "    if x[i:i+2] == '- ':\n",
    "        print(x[i:i+2])\n",
    "        j = x.find('/n',i+2)\n",
    "        ex.append(x[i+2:j])\n",
    "print(ex)"
   ]
  },
  {
   "cell_type": "code",
   "execution_count": 6,
   "id": "5940c53d",
   "metadata": {},
   "outputs": [
    {
     "ename": "UnicodeDecodeError",
     "evalue": "'utf-8' codec can't decode byte 0x96 in position 5075: invalid start byte",
     "output_type": "error",
     "traceback": [
      "\u001b[1;31m---------------------------------------------------------------------------\u001b[0m",
      "\u001b[1;31mUnicodeDecodeError\u001b[0m                        Traceback (most recent call last)",
      "\u001b[1;32m~\\AppData\\Local\\Temp/ipykernel_34740/1425498425.py\u001b[0m in \u001b[0;36m<module>\u001b[1;34m\u001b[0m\n\u001b[0;32m      5\u001b[0m \u001b[0murllib\u001b[0m\u001b[1;33m.\u001b[0m\u001b[0mrequest\u001b[0m\u001b[1;33m.\u001b[0m\u001b[0murlretrieve\u001b[0m\u001b[1;33m(\u001b[0m\u001b[0murl\u001b[0m\u001b[1;33m,\u001b[0m \u001b[0mdata_file\u001b[0m\u001b[1;33m)\u001b[0m\u001b[1;33m\u001b[0m\u001b[1;33m\u001b[0m\u001b[0m\n\u001b[0;32m      6\u001b[0m \u001b[1;32mwith\u001b[0m \u001b[0mopen\u001b[0m\u001b[1;33m(\u001b[0m\u001b[0mdata_file\u001b[0m\u001b[1;33m,\u001b[0m \u001b[0mencoding\u001b[0m\u001b[1;33m=\u001b[0m\u001b[1;34m'utf-8'\u001b[0m\u001b[1;33m)\u001b[0m \u001b[1;32mas\u001b[0m \u001b[0mf\u001b[0m\u001b[1;33m:\u001b[0m\u001b[1;33m\u001b[0m\u001b[1;33m\u001b[0m\u001b[0m\n\u001b[1;32m----> 7\u001b[1;33m     \u001b[0mdata\u001b[0m \u001b[1;33m=\u001b[0m \u001b[0mjson\u001b[0m\u001b[1;33m.\u001b[0m\u001b[0mload\u001b[0m\u001b[1;33m(\u001b[0m\u001b[0mf\u001b[0m\u001b[1;33m)\u001b[0m\u001b[1;33m\u001b[0m\u001b[1;33m\u001b[0m\u001b[0m\n\u001b[0m\u001b[0;32m      8\u001b[0m \u001b[0mprint\u001b[0m\u001b[1;33m(\u001b[0m\u001b[0mdata\u001b[0m\u001b[1;33m)\u001b[0m\u001b[1;33m\u001b[0m\u001b[1;33m\u001b[0m\u001b[0m\n",
      "\u001b[1;32m~\\anaconda3\\lib\\json\\__init__.py\u001b[0m in \u001b[0;36mload\u001b[1;34m(fp, cls, object_hook, parse_float, parse_int, parse_constant, object_pairs_hook, **kw)\u001b[0m\n\u001b[0;32m    291\u001b[0m     \u001b[0mkwarg\u001b[0m\u001b[1;33m;\u001b[0m \u001b[0motherwise\u001b[0m\u001b[0;31m \u001b[0m\u001b[0;31m`\u001b[0m\u001b[0;31m`\u001b[0m\u001b[0mJSONDecoder\u001b[0m\u001b[0;31m`\u001b[0m\u001b[0;31m`\u001b[0m \u001b[1;32mis\u001b[0m \u001b[0mused\u001b[0m\u001b[1;33m.\u001b[0m\u001b[1;33m\u001b[0m\u001b[1;33m\u001b[0m\u001b[0m\n\u001b[0;32m    292\u001b[0m     \"\"\"\n\u001b[1;32m--> 293\u001b[1;33m     return loads(fp.read(),\n\u001b[0m\u001b[0;32m    294\u001b[0m         \u001b[0mcls\u001b[0m\u001b[1;33m=\u001b[0m\u001b[0mcls\u001b[0m\u001b[1;33m,\u001b[0m \u001b[0mobject_hook\u001b[0m\u001b[1;33m=\u001b[0m\u001b[0mobject_hook\u001b[0m\u001b[1;33m,\u001b[0m\u001b[1;33m\u001b[0m\u001b[1;33m\u001b[0m\u001b[0m\n\u001b[0;32m    295\u001b[0m         \u001b[0mparse_float\u001b[0m\u001b[1;33m=\u001b[0m\u001b[0mparse_float\u001b[0m\u001b[1;33m,\u001b[0m \u001b[0mparse_int\u001b[0m\u001b[1;33m=\u001b[0m\u001b[0mparse_int\u001b[0m\u001b[1;33m,\u001b[0m\u001b[1;33m\u001b[0m\u001b[1;33m\u001b[0m\u001b[0m\n",
      "\u001b[1;32m~\\anaconda3\\lib\\codecs.py\u001b[0m in \u001b[0;36mdecode\u001b[1;34m(self, input, final)\u001b[0m\n\u001b[0;32m    320\u001b[0m         \u001b[1;31m# decode input (taking the buffer into account)\u001b[0m\u001b[1;33m\u001b[0m\u001b[1;33m\u001b[0m\u001b[0m\n\u001b[0;32m    321\u001b[0m         \u001b[0mdata\u001b[0m \u001b[1;33m=\u001b[0m \u001b[0mself\u001b[0m\u001b[1;33m.\u001b[0m\u001b[0mbuffer\u001b[0m \u001b[1;33m+\u001b[0m \u001b[0minput\u001b[0m\u001b[1;33m\u001b[0m\u001b[1;33m\u001b[0m\u001b[0m\n\u001b[1;32m--> 322\u001b[1;33m         \u001b[1;33m(\u001b[0m\u001b[0mresult\u001b[0m\u001b[1;33m,\u001b[0m \u001b[0mconsumed\u001b[0m\u001b[1;33m)\u001b[0m \u001b[1;33m=\u001b[0m \u001b[0mself\u001b[0m\u001b[1;33m.\u001b[0m\u001b[0m_buffer_decode\u001b[0m\u001b[1;33m(\u001b[0m\u001b[0mdata\u001b[0m\u001b[1;33m,\u001b[0m \u001b[0mself\u001b[0m\u001b[1;33m.\u001b[0m\u001b[0merrors\u001b[0m\u001b[1;33m,\u001b[0m \u001b[0mfinal\u001b[0m\u001b[1;33m)\u001b[0m\u001b[1;33m\u001b[0m\u001b[1;33m\u001b[0m\u001b[0m\n\u001b[0m\u001b[0;32m    323\u001b[0m         \u001b[1;31m# keep undecoded input until the next call\u001b[0m\u001b[1;33m\u001b[0m\u001b[1;33m\u001b[0m\u001b[0m\n\u001b[0;32m    324\u001b[0m         \u001b[0mself\u001b[0m\u001b[1;33m.\u001b[0m\u001b[0mbuffer\u001b[0m \u001b[1;33m=\u001b[0m \u001b[0mdata\u001b[0m\u001b[1;33m[\u001b[0m\u001b[0mconsumed\u001b[0m\u001b[1;33m:\u001b[0m\u001b[1;33m]\u001b[0m\u001b[1;33m\u001b[0m\u001b[1;33m\u001b[0m\u001b[0m\n",
      "\u001b[1;31mUnicodeDecodeError\u001b[0m: 'utf-8' codec can't decode byte 0x96 in position 5075: invalid start byte"
     ]
    }
   ],
   "source": [
    "import urllib.request\n",
    "import json\n",
    "data_file = 'botProperties.json'\n",
    "url = f'https://novacorpweb.azurewebsites.net/gts/{data_file}'\n",
    "urllib.request.urlretrieve(url, data_file)\n",
    "with open(data_file, encoding='utf-8') as f:\n",
    "    data = json.load(f)\n",
    "print(data)"
   ]
  },
  {
   "cell_type": "code",
   "execution_count": 12,
   "id": "42fe00af",
   "metadata": {},
   "outputs": [],
   "source": [
    "keys = []\n",
    "num_questions = 5\n",
    "# for i in range(num_questions):\n",
    "    "
   ]
  },
  {
   "cell_type": "code",
   "execution_count": 14,
   "id": "f7a6d6f9",
   "metadata": {},
   "outputs": [
    {
     "name": "stdout",
     "output_type": "stream",
     "text": [
      "['qa_num_0', 'qa_num_1', 'qa_num_2', 'qa_num_3', 'qa_num_4']\n"
     ]
    }
   ],
   "source": [
    "qnum = 'qa_num_'\n",
    "test = []\n",
    "for i in range(num_questions):\n",
    "    test.append(qnum+str(i))\n",
    "print(test)"
   ]
  },
  {
   "cell_type": "code",
   "execution_count": 9,
   "id": "455000d8",
   "metadata": {},
   "outputs": [
    {
     "name": "stdout",
     "output_type": "stream",
     "text": [
      "result2:\n",
      "{   'alternative': [   {   'confidence': 0.75034797,\n",
      "                           'transcript': 'to determine our Delta important one '\n",
      "                                         'message for your report to dear that '\n",
      "                                         'connected through over'},\n",
      "                       {   'transcript': 'to determine our Delta 101 message '\n",
      "                                         'for your report to deer that '\n",
      "                                         'connected through over'},\n",
      "                       {   'transcript': 'to determine our delta delta one '\n",
      "                                         'message for your report to deer that '\n",
      "                                         'connected through over'},\n",
      "                       {   'transcript': 'to determine our Delta 101 message '\n",
      "                                         'for your report to dear that '\n",
      "                                         'connected through over'},\n",
      "                       {   'transcript': 'to determine our delta delta one '\n",
      "                                         'message for your report to dear that '\n",
      "                                         'connected through over'}],\n",
      "    'final': True}\n"
     ]
    }
   ],
   "source": [
    "import speech_recognition as sr\n",
    "import json\n",
    "filename = \"220714_2111.wav\"\n",
    "# initialize the recognizer\n",
    "r = sr.Recognizer()\n",
    "# open the file\n",
    "with sr.AudioFile(filename) as source:\n",
    "    # listen for the data (load audio to memory)\n",
    "    audio_data = r.record(source)\n",
    "    # recognize (convert from speech to text)\n",
    "    text = r.recognize_google(audio_data)"
   ]
  },
  {
   "cell_type": "code",
   "execution_count": 17,
   "id": "15d94fca",
   "metadata": {},
   "outputs": [
    {
     "name": "stdout",
     "output_type": "stream",
     "text": [
      "<class 'str'>\n",
      "to determine our Delta important one message for your report to dear that connected through over\n"
     ]
    }
   ],
   "source": [
    "# ans = json.dumps('{'+text+'}')\n",
    "print(type(text))\n",
    "print(text)\n",
    "# print(ans['result2']['alternative'][0])"
   ]
  },
  {
   "cell_type": "code",
   "execution_count": 18,
   "id": "3e05cedb",
   "metadata": {},
   "outputs": [],
   "source": [
    "#open text file\n",
    "text_file = open(\"data.txt\", \"w\")\n",
    "\n",
    "#write string to file\n",
    "text_file.write(text)\n",
    "\n",
    "#close file\n",
    "text_file.close()"
   ]
  },
  {
   "cell_type": "code",
   "execution_count": 4,
   "id": "3964d2b3",
   "metadata": {},
   "outputs": [
    {
     "name": "stdout",
     "output_type": "stream",
     "text": [
      "Collecting SpeechRecognition\n",
      "  Using cached SpeechRecognition-3.9.0-py2.py3-none-any.whl (32.8 MB)\n",
      "Requirement already satisfied: pydub in c:\\users\\dever\\anaconda3\\lib\\site-packages (0.25.1)\n",
      "Requirement already satisfied: requests>=2.26.0 in c:\\users\\dever\\anaconda3\\lib\\site-packages (from SpeechRecognition) (2.26.0)\n",
      "Requirement already satisfied: certifi>=2017.4.17 in c:\\users\\dever\\anaconda3\\lib\\site-packages (from requests>=2.26.0->SpeechRecognition) (2022.12.7)\n",
      "Requirement already satisfied: idna<4,>=2.5 in c:\\users\\dever\\anaconda3\\lib\\site-packages (from requests>=2.26.0->SpeechRecognition) (3.2)\n",
      "Requirement already satisfied: charset-normalizer~=2.0.0 in c:\\users\\dever\\anaconda3\\lib\\site-packages (from requests>=2.26.0->SpeechRecognition) (2.0.4)\n",
      "Requirement already satisfied: urllib3<1.27,>=1.21.1 in c:\\users\\dever\\anaconda3\\lib\\site-packages (from requests>=2.26.0->SpeechRecognition) (1.26.7)\n",
      "Installing collected packages: SpeechRecognition\n",
      "Successfully installed SpeechRecognition-3.9.0\n",
      "Note: you may need to restart the kernel to use updated packages.\n"
     ]
    }
   ],
   "source": [
    "pip install SpeechRecognition pydub"
   ]
  },
  {
   "cell_type": "code",
   "execution_count": null,
   "id": "abdd4b1d",
   "metadata": {},
   "outputs": [],
   "source": []
  }
 ],
 "metadata": {
  "kernelspec": {
   "display_name": "Python 3 (ipykernel)",
   "language": "python",
   "name": "python3"
  },
  "language_info": {
   "codemirror_mode": {
    "name": "ipython",
    "version": 3
   },
   "file_extension": ".py",
   "mimetype": "text/x-python",
   "name": "python",
   "nbconvert_exporter": "python",
   "pygments_lexer": "ipython3",
   "version": "3.9.7"
  }
 },
 "nbformat": 4,
 "nbformat_minor": 5
}
